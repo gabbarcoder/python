{
 "cells": [
  {
   "cell_type": "code",
   "execution_count": 3,
   "id": "eb996799",
   "metadata": {},
   "outputs": [
    {
     "name": "stdout",
     "output_type": "stream",
     "text": [
      "Program 1: Factorial\n"
     ]
    }
   ],
   "source": [
    "print(\"1. Compute factorial of a number using recursion\")"
   ]
  },
  {
   "cell_type": "code",
   "execution_count": 4,
   "id": "4f512569",
   "metadata": {},
   "outputs": [
    {
     "name": "stdout",
     "output_type": "stream",
     "text": [
      "Enter a number : 52\n",
      "The factorial of a number is  80658175170943878571660636856403766975289505440883277824000000000000\n"
     ]
    }
   ],
   "source": [
    "def fact(n):\n",
    "    if n==1 or n==0:\n",
    "        return 1\n",
    "    else:\n",
    "        return n*fact(n-1)\n",
    "num=int(input('Enter a number : '))\n",
    "print(\"The factorial of a number is \",fact(num))"
   ]
  },
  {
   "cell_type": "code",
   "execution_count": 9,
   "id": "c9a58e3e",
   "metadata": {},
   "outputs": [
    {
     "name": "stdout",
     "output_type": "stream",
     "text": [
      "2. Create a user defined function called fib and store it in a separate file. Import and call the function in a new file to display nth Fibonacci number.\n"
     ]
    }
   ],
   "source": [
    "print(\"2. Create a user defined function called fib and store it in a separate file. Import and call the function in a new file to display nth Fibonacci number.\")"
   ]
  },
  {
   "cell_type": "code",
   "execution_count": 7,
   "id": "0ac6c423",
   "metadata": {},
   "outputs": [
    {
     "name": "stdout",
     "output_type": "stream",
     "text": [
      "3\n"
     ]
    }
   ],
   "source": [
    "import Fibonacci as m\n",
    "print(m.fib(5))"
   ]
  },
  {
   "cell_type": "code",
   "execution_count": 10,
   "id": "393c7c63",
   "metadata": {},
   "outputs": [
    {
     "name": "stdout",
     "output_type": "stream",
     "text": [
      "3.Read a text file and print all unique words in the file sorted alphabetically\n"
     ]
    }
   ],
   "source": [
    "print(\"3.Read a text file and print all unique words in the file sorted alphabetically\")"
   ]
  },
  {
   "cell_type": "code",
   "execution_count": 11,
   "id": "0a062297",
   "metadata": {},
   "outputs": [
    {
     "name": "stdout",
     "output_type": "stream",
     "text": [
      "['a', 'accuracy', 'acts', 'algorithm', 'an', 'and', 'as', 'barometer', 'commonly-used', 'cost', 'data', 'descent', 'each', 'function', 'gauging', 'gradient', 'helps', 'is', 'iteration', 'its', 'learn', 'learning', 'machine', 'models', 'networks', 'neural', 'of', 'optimization', 'over', 'parameter', 'specifically', 'the', 'these', 'time', 'to', 'train', 'training', 'updates', 'which', 'with', 'within']\n"
     ]
    }
   ],
   "source": [
    "text_file = open('trial.txt', 'r')\n",
    "text = text_file.read()\n",
    "\n",
    "#cleaning\n",
    "text = text.lower()\n",
    "words = text.split()\n",
    "words = [word.strip('.,!;()[]') for word in words]\n",
    "words = [word.replace(\"'s\", '') for word in words]\n",
    "\n",
    "#finding unique\n",
    "unique = []\n",
    "for word in words:\n",
    "    if word not in unique:\n",
    "        unique.append(word)\n",
    "        \n",
    "#sort\n",
    "unique.sort()\n",
    "\n",
    "#print\n",
    "print(unique)"
   ]
  },
  {
   "cell_type": "code",
   "execution_count": 13,
   "id": "69b2b516",
   "metadata": {},
   "outputs": [
    {
     "name": "stdout",
     "output_type": "stream",
     "text": [
      "4. Solve polynomial equations by reading coefficients from the list.\n"
     ]
    }
   ],
   "source": [
    "print(\"4. Solve polynomial equations by reading coefficients from the list.\")"
   ]
  },
  {
   "cell_type": "code",
   "execution_count": 18,
   "id": "0c5d9a92",
   "metadata": {},
   "outputs": [
    {
     "name": "stdout",
     "output_type": "stream",
     "text": [
      "Enter the value for x : 1\n",
      "The result after solving equation is  1\n"
     ]
    }
   ],
   "source": [
    "poly = [1,2]\n",
    "\n",
    "x = int(input(\"Enter the value for x : \"))\n",
    "\n",
    "n = len(poly)\n",
    "\n",
    "\n",
    "result = 0\n",
    "\n",
    "\n",
    "for i in range(n):\n",
    "    Sum = poly[i]\n",
    "    \n",
    "    for j in range(n - i - 1):\n",
    "        Sum = Sum * x\n",
    "        result = result + Sum\n",
    "        \n",
    "print('The result after solving equation is ',result)"
   ]
  },
  {
   "cell_type": "code",
   "execution_count": 19,
   "id": "d3405941",
   "metadata": {},
   "outputs": [
    {
     "name": "stdout",
     "output_type": "stream",
     "text": [
      "5. Sort the given list according to the length of the elements present in the list.\n"
     ]
    }
   ],
   "source": [
    "print(\"5. Sort the given list according to the length of the elements present in the list.\")"
   ]
  },
  {
   "cell_type": "code",
   "execution_count": 21,
   "id": "36448467",
   "metadata": {},
   "outputs": [
    {
     "name": "stdout",
     "output_type": "stream",
     "text": [
      "['bob', 'alice', 'tommy', 'tonystark']\n"
     ]
    }
   ],
   "source": [
    "strings = [\"alice\", \"bob\", \"tonystark\", \"tommy\"]\n",
    "strings.sort(key = len)\n",
    "print(strings)"
   ]
  }
 ],
 "metadata": {
  "kernelspec": {
   "display_name": "Python 3 (ipykernel)",
   "language": "python",
   "name": "python3"
  },
  "language_info": {
   "codemirror_mode": {
    "name": "ipython",
    "version": 3
   },
   "file_extension": ".py",
   "mimetype": "text/x-python",
   "name": "python",
   "nbconvert_exporter": "python",
   "pygments_lexer": "ipython3",
   "version": "3.9.12"
  }
 },
 "nbformat": 4,
 "nbformat_minor": 5
}
