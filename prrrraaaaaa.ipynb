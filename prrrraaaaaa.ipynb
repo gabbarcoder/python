{
 "cells": [
  {
   "cell_type": "code",
   "execution_count": 1,
   "id": "c5f786c0",
   "metadata": {},
   "outputs": [
    {
     "name": "stdout",
     "output_type": "stream",
     "text": [
      "hello\n"
     ]
    }
   ],
   "source": [
    "print(\"hello\")"
   ]
  },
  {
   "cell_type": "code",
   "execution_count": 5,
   "id": "b5fe8901",
   "metadata": {},
   "outputs": [
    {
     "name": "stdout",
     "output_type": "stream",
     "text": [
      "[1, 2, 3, 4]\n",
      "['a', 420, 69, 8.8]\n"
     ]
    }
   ],
   "source": [
    "x=[1,2,3,4]\n",
    "y=[\"a\",420,69,8.8]\n",
    "print(x)\n",
    "print(y)"
   ]
  },
  {
   "cell_type": "code",
   "execution_count": 7,
   "id": "10001ef0",
   "metadata": {},
   "outputs": [
    {
     "name": "stdout",
     "output_type": "stream",
     "text": [
      "['hh', 'aa', 'gg', 'gjhfgu']\n"
     ]
    }
   ],
   "source": [
    "y=[\"hh\",\"aa\",\"gg\"]\n",
    "y.append(\"gjhfgu\")\n",
    "print(y)"
   ]
  },
  {
   "cell_type": "code",
   "execution_count": 9,
   "id": "f7c36c07",
   "metadata": {},
   "outputs": [
    {
     "name": "stdout",
     "output_type": "stream",
     "text": [
      "['hh', 'aa', 'gg', 'gjhfgu', 'ghd', 'dwyfgu', 'yuwdf']\n"
     ]
    }
   ],
   "source": [
    "z=[\"ghd\",\"dwyfgu\",\"yuwdf\"]\n",
    "a=(y+z)\n",
    "print(a)"
   ]
  },
  {
   "cell_type": "code",
   "execution_count": 10,
   "id": "8c9c2543",
   "metadata": {},
   "outputs": [
    {
     "name": "stdout",
     "output_type": "stream",
     "text": [
      "7\n"
     ]
    }
   ],
   "source": [
    "print(len(a))"
   ]
  },
  {
   "cell_type": "code",
   "execution_count": 11,
   "id": "eed42c6f",
   "metadata": {},
   "outputs": [
    {
     "name": "stdout",
     "output_type": "stream",
     "text": [
      "['gg', 'gjhfgu', 'ghd']\n"
     ]
    }
   ],
   "source": [
    "print(a[2:5])"
   ]
  },
  {
   "cell_type": "code",
   "execution_count": 14,
   "id": "22090cd7",
   "metadata": {},
   "outputs": [
    {
     "name": "stdout",
     "output_type": "stream",
     "text": [
      "a\n",
      "x\n",
      "u\n"
     ]
    }
   ],
   "source": [
    "s=[\"a\",\"x\",\"u\"]\n",
    "for i in s :\n",
    "    print(i)"
   ]
  },
  {
   "cell_type": "code",
   "execution_count": 15,
   "id": "0b18f38a",
   "metadata": {},
   "outputs": [
    {
     "name": "stdout",
     "output_type": "stream",
     "text": [
      "a_\n",
      "x_\n",
      "u_\n"
     ]
    }
   ],
   "source": [
    "s=[\"a\",\"x\",\"u\"]\n",
    "for i in s :\n",
    "    print(i+\"_\")\n",
    "    \n",
    "    "
   ]
  },
  {
   "cell_type": "code",
   "execution_count": 22,
   "id": "77a4b05a",
   "metadata": {},
   "outputs": [
    {
     "name": "stdout",
     "output_type": "stream",
     "text": [
      "john cena\n"
     ]
    }
   ],
   "source": [
    "t={\"name\":\"john cena\",\n",
    "  \"phone\":6996,\n",
    "  \"age\":400}\n",
    "\n",
    "    \n",
    "print(t[\"name\"])"
   ]
  },
  {
   "cell_type": "code",
   "execution_count": 24,
   "id": "fbb019b7",
   "metadata": {},
   "outputs": [
    {
     "name": "stdout",
     "output_type": "stream",
     "text": [
      "huioh\n"
     ]
    }
   ],
   "source": [
    "shh=(\"tt\",\"hh\",\"huioh\")\n",
    "print(shh[2])"
   ]
  },
  {
   "cell_type": "code",
   "execution_count": 27,
   "id": "4b49d271",
   "metadata": {
    "scrolled": false
   },
   "outputs": [
    {
     "name": "stdout",
     "output_type": "stream",
     "text": [
      "enter the number:4\n",
      "4\n",
      "8\n",
      "12\n",
      "16\n",
      "20\n",
      "24\n",
      "28\n",
      "32\n",
      "36\n",
      "40\n"
     ]
    }
   ],
   "source": [
    "x=int(input(\"enter the number:\"))\n",
    "for i in range (1,11):\n",
    "    print(x*i)"
   ]
  },
  {
   "cell_type": "code",
   "execution_count": null,
   "id": "8a401145",
   "metadata": {},
   "outputs": [],
   "source": []
  }
 ],
 "metadata": {
  "kernelspec": {
   "display_name": "Python 3 (ipykernel)",
   "language": "python",
   "name": "python3"
  },
  "language_info": {
   "codemirror_mode": {
    "name": "ipython",
    "version": 3
   },
   "file_extension": ".py",
   "mimetype": "text/x-python",
   "name": "python",
   "nbconvert_exporter": "python",
   "pygments_lexer": "ipython3",
   "version": "3.9.12"
  }
 },
 "nbformat": 4,
 "nbformat_minor": 5
}
